{
 "cells": [
  {
   "cell_type": "markdown",
   "metadata": {},
   "source": [
    "# Hierarchical clustering demo\n",
    "\n",
    "## 1. Algorithm implementation\n",
    "It should be a tree, so we create a Node class first."
   ]
  },
  {
   "cell_type": "code",
   "execution_count": 1,
   "metadata": {},
   "outputs": [],
   "source": [
    "class BiClusterNode:\n",
    "    def __init__(self,vec,left=None,right=None,distance=0.0,id=None):\n",
    "        self.left=left\n",
    "        self.right=right\n",
    "        self.vec=vec\n",
    "        self.id=id\n",
    "        self.distance=distance"
   ]
  },
  {
   "cell_type": "markdown",
   "metadata": {},
   "source": [
    "We still need all different distance metrics"
   ]
  },
  {
   "cell_type": "code",
   "execution_count": 2,
   "metadata": {},
   "outputs": [],
   "source": [
    "from math import sqrt\n",
    "\n",
    "def manhattan(v1,v2):\n",
    "    res=0\n",
    "    dimensions=min(len(v1),len(v2))\n",
    "\n",
    "    for i in range(dimensions):\n",
    "        res+=abs(v1[i]-v2[i])\n",
    "\n",
    "    return res\n",
    "\n",
    "\n",
    "def euclidean(v1,v2):\n",
    "    res=0\n",
    "    dimensions=min(len(v1),len(v2))\n",
    "    for i in range(dimensions):\n",
    "        res+=pow(abs(v1[i]-v2[i]),2)\n",
    "\n",
    "    return sqrt(float(res))\n",
    "\n",
    "\n",
    "def cosine(v1,v2):\n",
    "    dotproduct=0\n",
    "    dimensions=min(len(v1),len(v2))\n",
    "\n",
    "    for i in range(dimensions):\n",
    "        dotproduct+=v1[i]*v2[i]\n",
    "\n",
    "    v1len=0\n",
    "    v2len=0\n",
    "    for i in range (dimensions):\n",
    "        v1len+=v1[i]*v1[i]\n",
    "        v2len+=v2[i]*v2[i]\n",
    "\n",
    "    v1len=sqrt(v1len)\n",
    "    v2len=sqrt(v2len)\n",
    "    \n",
    "    # we need distance here - \n",
    "    # we convert cosine similarity into distance\n",
    "    return 1.0-(float(dotproduct)/(v1len*v2len))\n",
    "  \n",
    "\n",
    "def pearson(v1,v2):\n",
    "    # Simple sums\n",
    "    sum1=sum(v1)\n",
    "    sum2=sum(v2)\n",
    "  \n",
    "    # Sums of the squares\n",
    "    sum1Sq=sum([pow(v,2) for v in v1])\n",
    "    sum2Sq=sum([pow(v,2) for v in v2])\n",
    "  \n",
    "    # Sum of the products\n",
    "    pSum=sum([v1[i]*v2[i] for i in range(min(len(v1),len(v2)))])\n",
    "  \n",
    "    # Calculate r (Pearson score)\n",
    "    numerator=pSum-(sum1*sum2/len(v1))\n",
    "    denominator=sqrt((sum1Sq-pow(sum1,2)/len(v1))*(sum2Sq-pow(sum2,2)/len(v1)))\n",
    "    if denominator==0: return 1.0\n",
    "    \n",
    "    # we need distance here - \n",
    "    # we convert pearson correlation into distance\n",
    "    return 1.0-numerator/denominator\n",
    "\n",
    "\n",
    "def tanimoto(v1,v2):\n",
    "    c1,c2,shared=0,0,0\n",
    "\n",
    "    for i in range(len(v1)):\n",
    "        if v1[i]!=0 or v2[i]!= 0:\n",
    "            if v1[i]!=0: c1+=1 # in v1\n",
    "            if v2[i]!=0: c2+=1 # in v2\n",
    "            if v1[i]!=0 and v2[i]!=0: shared+=1 # in both\n",
    "    \n",
    "    # we need distance here - \n",
    "    # we convert tanimoto overlap into distance\n",
    "    return 1.0-(float(shared)/(c1+c2-shared))"
   ]
  },
  {
   "cell_type": "markdown",
   "metadata": {},
   "source": [
    "Hierarchical clustering algorithm."
   ]
  },
  {
   "cell_type": "code",
   "execution_count": 3,
   "metadata": {},
   "outputs": [],
   "source": [
    "def hcluster(rows,distance=euclidean):\n",
    "    distances={}\n",
    "    currentclustid=-1\n",
    "\n",
    "    # Clusters are initially just the rows\n",
    "    clust=[BiClusterNode(rows[i],id=i) for i in range(len(rows))]\n",
    "\n",
    "    while len(clust)>1:\n",
    "        lowestpair=(0,1)\n",
    "        closest=distance(clust[0].vec,clust[1].vec)\n",
    "\n",
    "        # loop through every pair looking for the smallest distance\n",
    "        for i in range(len(clust)):\n",
    "            for j in range(i+1,len(clust)):\n",
    "                # distances is the cache of distance calculations\n",
    "                if (clust[i].id,clust[j].id) not in distances:\n",
    "                    distances[(clust[i].id,clust[j].id)]=distance(clust[i].vec,clust[j].vec)\n",
    "\n",
    "                d=distances[(clust[i].id,clust[j].id)]\n",
    "\n",
    "                if d<closest:\n",
    "                    closest=d\n",
    "                    lowestpair=(i,j)\n",
    "\n",
    "        # calculate the average of the two clusters\n",
    "        mergevec=[\n",
    "            (clust[lowestpair[0]].vec[i]+clust[lowestpair[1]].vec[i])/2.0\n",
    "                    for i in range(len(clust[0].vec))]\n",
    "\n",
    "        # create the new cluster\n",
    "        newcluster=BiClusterNode(mergevec,left=clust[lowestpair[0]],\n",
    "                             right=clust[lowestpair[1]],\n",
    "                             distance=closest,id=currentclustid)\n",
    "\n",
    "        # cluster ids that weren't in the original set are negative\n",
    "        currentclustid-=1\n",
    "        del clust[lowestpair[1]]\n",
    "        del clust[lowestpair[0]]\n",
    "        clust.append(newcluster)\n",
    "\n",
    "    return clust[0]"
   ]
  },
  {
   "cell_type": "markdown",
   "metadata": {},
   "source": [
    "Function for printing resulting dendrogram."
   ]
  },
  {
   "cell_type": "code",
   "execution_count": 4,
   "metadata": {},
   "outputs": [],
   "source": [
    "def printhclust(clust,labels=None,n=0):\n",
    "    # indent to make a hierarchy layout\n",
    "    for i in range(n):\n",
    "        print (' ', end=\"\")\n",
    "    if clust.id<0:\n",
    "    # negative id means that this is branch\n",
    "        print ('-')\n",
    "    else:\n",
    "    # positive id means that this is an endpoint\n",
    "        if labels==None: print (clust.id)\n",
    "        else: print (labels[clust.id])\n",
    "\n",
    "    # now print the right and left branches\n",
    "    if clust.left!=None: printhclust(clust.left,labels=labels,n=n+1)\n",
    "    if clust.right!=None: printhclust(clust.right,labels=labels,n=n+1)"
   ]
  },
  {
   "cell_type": "markdown",
   "metadata": {},
   "source": [
    "And to draw the dendrogram."
   ]
  },
  {
   "cell_type": "code",
   "execution_count": 5,
   "metadata": {},
   "outputs": [],
   "source": [
    "# draw hierarchical clusters\n",
    "from PIL import Image,ImageDraw\n",
    "\n",
    "def getheight(clust):\n",
    "    # Is this an endpoint? Then the height is just 1\n",
    "    if clust.left==None and clust.right==None: return 1\n",
    "\n",
    "    # Otherwise the height is the same of the heights of\n",
    "    # each branch\n",
    "    return getheight(clust.left)+getheight(clust.right)\n",
    "\n",
    "\n",
    "def getdepth(clust):\n",
    "    # The distance of an endpoint is 0.0\n",
    "    if clust.left==None and clust.right==None: return 0\n",
    "\n",
    "    # The distance of a branch is the greater of its two sides\n",
    "    # plus its own distance\n",
    "    return max(getdepth(clust.left),getdepth(clust.right))+clust.distance\n",
    "\n",
    "\n",
    "def drawdendrogram(clust,labels,jpeg='clusters.jpg'):\n",
    "    # height and width\n",
    "    h=getheight(clust)*20\n",
    "    w=1200\n",
    "    depth=getdepth(clust)\n",
    "\n",
    "    # width is fixed, so scale distances accordingly\n",
    "    scaling=float(w-150)/depth\n",
    "\n",
    "    # Create a new image with a white background\n",
    "    img=Image.new('RGB',(w,h),(255,255,255))\n",
    "    draw=ImageDraw.Draw(img)\n",
    "\n",
    "    draw.line((0,h/2,10,h/2),fill=(255,0,0))\n",
    "\n",
    "    # Draw the first node\n",
    "    drawnode(draw,clust,10,(h/2),scaling,labels)\n",
    "    img.save(jpeg,'JPEG')\n",
    "\n",
    "\n",
    "def drawnode(draw,clust,x,y,scaling,labels):\n",
    "    if clust.id<0:\n",
    "        h1=getheight(clust.left)*20\n",
    "        h2=getheight(clust.right)*20\n",
    "        top=y-(h1+h2)/2\n",
    "        bottom=y+(h1+h2)/2\n",
    "        # Line length\n",
    "        ll=clust.distance*scaling\n",
    "        # Vertical line from this cluster to children\n",
    "        draw.line((x,top+h1/2,x,bottom-h2/2),fill=(255,0,0))\n",
    "\n",
    "        # Horizontal line to left item\n",
    "        draw.line((x,top+h1/2,x+ll,top+h1/2),fill=(255,0,0))\n",
    "\n",
    "        # Horizontal line to right item\n",
    "        draw.line((x,bottom-h2/2,x+ll,bottom-h2/2),fill=(255,0,0))\n",
    "\n",
    "        # Call the function to draw the left and right nodes\n",
    "        drawnode(draw,clust.left,x+ll,top+h1/2,scaling,labels)\n",
    "        drawnode(draw,clust.right,x+ll,bottom-h2/2,scaling,labels)\n",
    "    else:\n",
    "        # If this is an endpoint, draw the item label\n",
    "        draw.text((x+5,y-7),labels[clust.id],(0,0,0))"
   ]
  },
  {
   "cell_type": "markdown",
   "metadata": {},
   "source": [
    "## 2. Same toy dataset: clustering papers by title\n",
    "The input is a vector of words for each document, created from the paper titles in file [titles.txt](titles.txt), and stored in file  [titles_vectors.txt](titles_vectors.txt)."
   ]
  },
  {
   "cell_type": "code",
   "execution_count": 6,
   "metadata": {},
   "outputs": [],
   "source": [
    "# The same function to read vectors file\n",
    "def read_vector_file(file_name):\n",
    "    f = open(file_name)\n",
    "    lines=[line for line in f]\n",
    "  \n",
    "    # First line is the column headers\n",
    "    colnames=lines[0].strip().split('\\t')[:]\n",
    "    print(colnames)\n",
    "    rownames=[]\n",
    "    data=[]\n",
    "    for line in lines[1:]:\n",
    "        p=line.strip().split('\\t')\n",
    "        # First column in each row is the rowname\n",
    "        if len(p)>1:\n",
    "            rownames.append(p[0])\n",
    "            # The data for this row is the remainder of the row\n",
    "            data.append([float(x) for x in p[1:]])\n",
    "    return rownames,colnames,data"
   ]
  },
  {
   "cell_type": "markdown",
   "metadata": {},
   "source": [
    "The same function to rotate the matrix."
   ]
  },
  {
   "cell_type": "code",
   "execution_count": 7,
   "metadata": {},
   "outputs": [],
   "source": [
    "def rotatematrix(data):\n",
    "    newdata=[]\n",
    "    for i in range(len(data[0])):\n",
    "        newrow=[data[j][i] for j in range(len(data))]\n",
    "        newdata.append(newrow)\n",
    "    return newdata"
   ]
  },
  {
   "cell_type": "markdown",
   "metadata": {},
   "source": [
    "Build hierarchy of clusters and print it."
   ]
  },
  {
   "cell_type": "code",
   "execution_count": 8,
   "metadata": {},
   "outputs": [
    {
     "name": "stdout",
     "output_type": "stream",
     "text": [
      "['minors', 'user', 'human', 'time', 'computer', 'trees', 'system', 'survey', 'interface', 'eps', 'response', 'graph']\n",
      "clusters of documents\n",
      "-\n",
      " -\n",
      "  d3\n",
      "  d4\n",
      " -\n",
      "  -\n",
      "   d2\n",
      "   d5\n",
      "  -\n",
      "   d1\n",
      "   -\n",
      "    d9\n",
      "    -\n",
      "     d8\n",
      "     -\n",
      "      d6\n",
      "      d7\n"
     ]
    }
   ],
   "source": [
    "file_name = \"titles_vectors.txt\"\n",
    "docs,words,data=read_vector_file(file_name)\n",
    "\n",
    "clust=hcluster(data,distance=euclidean)\n",
    "print ('clusters of documents')\n",
    "printhclust(clust,labels=docs)"
   ]
  },
  {
   "cell_type": "code",
   "execution_count": 9,
   "metadata": {},
   "outputs": [],
   "source": [
    "drawdendrogram(clust,docs,jpeg='docsclust_image.jpg')"
   ]
  },
  {
   "cell_type": "code",
   "execution_count": 15,
   "metadata": {},
   "outputs": [
    {
     "data": {
      "image/png": "[encoded data removed]",
      "text/plain": [
       "<PIL.JpegImagePlugin.JpegImageFile image mode=RGB size=1200x180 at 0x1038ACAF0>"
      ]
     },
     "metadata": {},
     "output_type": "display_data"
    }
   ],
   "source": [
    "from PIL import Image               # to load images\n",
    "from IPython.display import display # to display images\n",
    "\n",
    "pil_im = Image.open('docsclust_image.jpg')\n",
    "display(pil_im)"
   ]
  },
  {
   "cell_type": "markdown",
   "metadata": {},
   "source": [
    "And these are our original documents:\n",
    "- `['d1', {'human': 1, 'interface': 1, 'computer': 1}]`\n",
    "- `['d2', {'survey': 1, 'user': 1, 'computer': 1, 'system': 1, 'response': 1, 'time': 1}]`\n",
    "- `['d3', {'eps': 1, 'user': 1, 'interface': 1, 'system': 1}]`\n",
    "- `['d4', {'system': 2, 'human': 1, 'eps': 1}]`\n",
    "- `['d5', {'user': 1, 'response': 1, 'time': 1}]`\n",
    "- `['d6', {'trees': 1}]`\n",
    "- `['d7', {'graph': 1, 'trees': 1}]`\n",
    "- `['d8', {'graph': 1, 'minors': 1, 'trees': 1}]`\n",
    "- `['d9', {'graph': 1, 'minors': 1, 'survey': 1}]`"
   ]
  },
  {
   "cell_type": "markdown",
   "metadata": {},
   "source": [
    "## 3. Clustering words by their co-occurrence in documents\n",
    "If we want to cluster words by their occurrences in the documents, all we need to do is to transpose the matrix."
   ]
  },
  {
   "cell_type": "code",
   "execution_count": 11,
   "metadata": {},
   "outputs": [
    {
     "name": "stdout",
     "output_type": "stream",
     "text": [
      "hierarchical clusters of words\n",
      "-\n",
      " system\n",
      " -\n",
      "  -\n",
      "   trees\n",
      "   -\n",
      "    minors\n",
      "    graph\n",
      "  -\n",
      "   -\n",
      "    eps\n",
      "    -\n",
      "     interface\n",
      "     -\n",
      "      human\n",
      "      computer\n",
      "   -\n",
      "    survey\n",
      "    -\n",
      "     user\n",
      "     -\n",
      "      time\n",
      "      response\n"
     ]
    }
   ],
   "source": [
    "rdata=rotatematrix(data)\n",
    "clust=hcluster(rdata,distance=euclidean)\n",
    "print ('hierarchical clusters of words')\n",
    "printhclust(clust,labels=words)\n",
    "drawdendrogram(clust,words,jpeg='wordsclust_image.jpg')"
   ]
  },
  {
   "cell_type": "code",
   "execution_count": 12,
   "metadata": {},
   "outputs": [
    {
     "data": {
      "image/png": "[encoded data removed]",
      "text/plain": [
       "<PIL.JpegImagePlugin.JpegImageFile image mode=RGB size=1200x240 at 0x1038A01F0>"
      ]
     },
     "metadata": {},
     "output_type": "display_data"
    }
   ],
   "source": [
    "pil_im = Image.open('wordsclust_image.jpg')\n",
    "display(pil_im)"
   ]
  },
  {
   "cell_type": "markdown",
   "metadata": {},
   "source": [
    "Copyright &copy; 2020 Marina Barsky. All rights reserved."
   ]
  }
 ],
 "metadata": {
  "kernelspec": {
   "display_name": "Python 3",
   "language": "python",
   "name": "python3"
  },
  "language_info": {
   "codemirror_mode": {
    "name": "ipython",
    "version": 3
   },
   "file_extension": ".py",
   "mimetype": "text/x-python",
   "name": "python",
   "nbconvert_exporter": "python",
   "pygments_lexer": "ipython3",
   "version": "3.8.3"
  }
 },
 "nbformat": 4,
 "nbformat_minor": 4
}
