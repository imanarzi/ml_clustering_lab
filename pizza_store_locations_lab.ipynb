{
 "cells": [
  {
   "cell_type": "markdown",
   "metadata": {},
   "source": [
    "# Clustering lab\n",
    "## Using clustering to find best store locations\n",
    "\n",
    "Imagine the following problem:<br>\n",
    "You own the pizza chain, and you collected data about pizza deliveries in a certain neighborhood. The data contains a coordinate of each delivery as a pair *(Latitude,Longitude)*. You do not have any stores in this neighborhood, and driving there takes a lot of resources from your business. So you decide to open $K$ new stores in this area. The goal is, based on the frequent delivery data, determine the best locations for the new stores.\n",
    "\n",
    "You need to perform the $K$-means clustering of delivery locations, and otput the best location for $K$ new stores. How would you choose the location of the store within each cluster that minimizes the overall distancebetween the store and the delivery address?\n",
    "\n",
    "The data is 2-dimensional and it is easy to plot it to see if the locations of new stores make sense."
   ]
  },
  {
   "cell_type": "code",
   "execution_count": 1,
   "metadata": {},
   "outputs": [],
   "source": [
    "%matplotlib inline\n",
    "import matplotlib.pyplot as plt\n",
    "import seaborn as sns; sns.set()  # for plot styling\n",
    "import pandas as pd\n",
    "import numpy as np"
   ]
  },
  {
   "cell_type": "markdown",
   "metadata": {},
   "source": [
    "The data is a real data collected by [this person](https://github.com/angelddaz) while working as a pizza delivery driver. The file [pizza_delivery_locations.csv](https://docs.google.com/spreadsheets/d/1guQN-_EykRqqlY2R3uYfopNX9pc8p-E8oHJr-RTXtQU/edit?usp=sharing) is a subset of the original data and contains only *(Latitude,Longitude)* of each delivery address. Download the file and update the path below."
   ]
  },
  {
   "cell_type": "code",
   "execution_count": 2,
   "metadata": {},
   "outputs": [],
   "source": [
    "data_file = \"../../ml_datasets/pizza_delivery_locations.csv\""
   ]
  },
  {
   "cell_type": "code",
   "execution_count": 3,
   "metadata": {},
   "outputs": [
    {
     "name": "stdout",
     "output_type": "stream",
     "text": [
      "Index(['Latitude', 'Longitude'], dtype='object')\n"
     ]
    }
   ],
   "source": [
    "data = pd.read_csv(data_file)\n",
    "print(data.columns)\n",
    "len(data)\n",
    "\n",
    "# convert dataframe to a 2D numpy array - it is easier to work with it\n",
    "data = data.to_numpy()"
   ]
  },
  {
   "cell_type": "markdown",
   "metadata": {},
   "source": [
    "## Task 1.\n",
    "\n",
    "Use $K$-means clustering algorithm to find the best locations for new pizza stores for $K$=2, $K$=3 and $K$=4. The answers should be represented as lists of *(Latitide,Longitude)* tuples for each value of $K$.\n",
    "\n",
    "You can use the custom code from the k-means demo, or you can use the `sklearn.KMeans` module to perform clustering."
   ]
  },
  {
   "cell_type": "code",
   "execution_count": 4,
   "metadata": {},
   "outputs": [],
   "source": [
    "def print_values(labels): #didnt use but just in case\n",
    "    clusters = {}\n",
    "    n = 0\n",
    "    for item in labels:\n",
    "        if item in clusters:\n",
    "            clusters[item].append(data[n])\n",
    "        else:\n",
    "            clusters[item] = [data[n]]\n",
    "        n +=1\n",
    "    for item in clusters:\n",
    "        print(\"Cluster \", item)\n",
    "        for i in clusters[item]:\n",
    "            print(i)"
   ]
  },
  {
   "cell_type": "code",
   "execution_count": 5,
   "metadata": {},
   "outputs": [],
   "source": [
    "# clustering code for 2,3 and 4 clusters\n",
    "from sklearn.cluster import KMeans\n",
    "kmeans2 = KMeans(n_clusters=2, random_state=0).fit(data)\n",
    "kmeans3 = KMeans(n_clusters=3, random_state=0).fit(data)\n",
    "kmeans4 = KMeans(n_clusters=4, random_state=0).fit(data)"
   ]
  },
  {
   "cell_type": "code",
   "execution_count": 6,
   "metadata": {},
   "outputs": [
    {
     "name": "stdout",
     "output_type": "stream",
     "text": [
      "two centroids:  [[  43.66816551 -116.2660482 ]\n",
      " [  43.63727286 -116.22524745]]\n",
      "three centroids:  [[  43.66816551 -116.2660482 ]\n",
      " [  43.64181413 -116.24036593]\n",
      " [  43.63263042 -116.20979217]]\n",
      "four centroids:  [[  43.66395605 -116.26687948]\n",
      " [  43.63263042 -116.20979217]\n",
      " [  43.64181413 -116.24036593]\n",
      " [  43.723879   -116.255046  ]]\n"
     ]
    }
   ],
   "source": [
    "# Extracting best store locations for each cluster of addresses\n",
    "print(\"two centroids: \", kmeans2.cluster_centers_)\n",
    "print(\"three centroids: \", kmeans3.cluster_centers_)\n",
    "print(\"four centroids: \", kmeans4.cluster_centers_)"
   ]
  },
  {
   "cell_type": "markdown",
   "metadata": {},
   "source": [
    "## Task 2\n",
    "Visualize clusters by plotting each data point and coloring it with the different color according to the cluster to which it belongs. Also plot the locations of new stores for each value of $K$. Some examples of the final visualizations are given below."
   ]
  },
  {
   "cell_type": "code",
   "execution_count": null,
   "metadata": {},
   "outputs": [],
   "source": []
  },
  {
   "cell_type": "markdown",
   "metadata": {},
   "source": [
    "## Examples of cluster visualization in 2D"
   ]
  },
  {
   "cell_type": "code",
   "execution_count": 15,
   "metadata": {},
   "outputs": [
    {
     "data": {
      "image/png": "[encoded data removed]",
      "text/plain": [
       "<Figure size 432x288 with 1 Axes>"
      ]
     },
     "metadata": {},
     "output_type": "display_data"
    }
   ],
   "source": [
    "# Plotting original data\n",
    "import matplotlib.pyplot as plt\n",
    "x, y = zip(*data)\n",
    "plt.scatter(y, x)\n",
    "plt.show()"
   ]
  },
  {
   "cell_type": "code",
   "execution_count": 16,
   "metadata": {},
   "outputs": [
    {
     "data": {
      "text/plain": [
       "<matplotlib.collections.PathCollection at 0x1274df280>"
      ]
     },
     "execution_count": 16,
     "metadata": {},
     "output_type": "execute_result"
    },
    {
     "data": {
      "image/png": "[encoded data removed]",
      "text/plain": [
       "<Figure size 432x288 with 1 Axes>"
      ]
     },
     "metadata": {},
     "output_type": "display_data"
    }
   ],
   "source": [
    "# Plotting clusters with centers\n",
    "plt.scatter(y,x, c=kmeans2.labels_, cmap='rainbow')\n",
    "plt.scatter(kmeans2.cluster_centers_[:,1] ,kmeans2.cluster_centers_[:,0], s=100, color='black', alpha=0.3)"
   ]
  },
  {
   "cell_type": "code",
   "execution_count": 17,
   "metadata": {},
   "outputs": [
    {
     "data": {
      "text/plain": [
       "<matplotlib.collections.PathCollection at 0x127a4f790>"
      ]
     },
     "execution_count": 17,
     "metadata": {},
     "output_type": "execute_result"
    },
    {
     "data": {
      "image/png": "[encoded data removed]",
      "text/plain": [
       "<Figure size 432x288 with 1 Axes>"
      ]
     },
     "metadata": {},
     "output_type": "display_data"
    }
   ],
   "source": [
    "plt.scatter(y,x, c=kmeans3.labels_, cmap='rainbow')\n",
    "plt.scatter(kmeans3.cluster_centers_[:,1] ,kmeans3.cluster_centers_[:,0], s=100, color='black', alpha=0.3)"
   ]
  },
  {
   "cell_type": "code",
   "execution_count": 19,
   "metadata": {},
   "outputs": [
    {
     "data": {
      "text/plain": [
       "<matplotlib.collections.PathCollection at 0x127a78b50>"
      ]
     },
     "execution_count": 19,
     "metadata": {},
     "output_type": "execute_result"
    },
    {
     "data": {
      "image/png": "[encoded data removed]",
      "text/plain": [
       "<Figure size 432x288 with 1 Axes>"
      ]
     },
     "metadata": {},
     "output_type": "display_data"
    }
   ],
   "source": [
    "plt.scatter(y,x, c=kmeans4.labels_, cmap='rainbow')\n",
    "plt.scatter(kmeans4.cluster_centers_[:,1] ,kmeans4.cluster_centers_[:,0], s=100, color='black', alpha=0.3)"
   ]
  },
  {
   "cell_type": "markdown",
   "metadata": {},
   "source": [
    "Copyright &copy; 2020 Marina Barsky. All rights reserved."
   ]
  }
 ],
 "metadata": {
  "kernelspec": {
   "display_name": "Python 3",
   "language": "python",
   "name": "python3"
  },
  "language_info": {
   "codemirror_mode": {
    "name": "ipython",
    "version": 3
   },
   "file_extension": ".py",
   "mimetype": "text/x-python",
   "name": "python",
   "nbconvert_exporter": "python",
   "pygments_lexer": "ipython3",
   "version": "3.8.3"
  }
 },
 "nbformat": 4,
 "nbformat_minor": 4
}
